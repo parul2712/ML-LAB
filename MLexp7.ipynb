{
  "nbformat": 4,
  "nbformat_minor": 0,
  "metadata": {
    "colab": {
      "provenance": [],
      "authorship_tag": "ABX9TyN2SOjVphv8KHOXaPRiR6+2",
      "include_colab_link": true
    },
    "kernelspec": {
      "name": "python3",
      "display_name": "Python 3"
    },
    "language_info": {
      "name": "python"
    }
  },
  "cells": [
    {
      "cell_type": "markdown",
      "metadata": {
        "id": "view-in-github",
        "colab_type": "text"
      },
      "source": [
        "<a href=\"https://colab.research.google.com/github/parul2712/ML-LAB/blob/main/MLexp7.ipynb\" target=\"_parent\"><img src=\"https://colab.research.google.com/assets/colab-badge.svg\" alt=\"Open In Colab\"/></a>"
      ]
    },
    {
      "cell_type": "code",
      "execution_count": 1,
      "metadata": {
        "colab": {
          "base_uri": "https://localhost:8080/"
        },
        "id": "zN7Lf0j0JoCw",
        "outputId": "b5e477b3-5f44-437a-d78c-3b746c345e28"
      },
      "outputs": [
        {
          "output_type": "stream",
          "name": "stdout",
          "text": [
            "Mounted at /content/drive\n"
          ]
        }
      ],
      "source": [
        "from google.colab import drive\n",
        "drive.mount('/content/drive')\n"
      ]
    },
    {
      "cell_type": "code",
      "source": [
        "import pandas as pd\n",
        "\n",
        "file_path = \"/content/drive/MyDrive/titanic.csv\"  # Update with your file path\n",
        "df = pd.read_csv(file_path)\n",
        "\n",
        "print(df.head())  # Display first few rows\n"
      ],
      "metadata": {
        "colab": {
          "base_uri": "https://localhost:8080/"
        },
        "id": "sVr8XcWpKDy3",
        "outputId": "d0d09c9c-285f-45fe-ced9-d468f1354e43"
      },
      "execution_count": 3,
      "outputs": [
        {
          "output_type": "stream",
          "name": "stdout",
          "text": [
            "   PassengerId  Survived  Pclass  \\\n",
            "0            1         0       3   \n",
            "1            2         1       1   \n",
            "2            3         1       3   \n",
            "3            4         1       1   \n",
            "4            5         0       3   \n",
            "\n",
            "                                                Name     Sex   Age  SibSp  \\\n",
            "0                            Braund, Mr. Owen Harris    male  22.0      1   \n",
            "1  Cumings, Mrs. John Bradley (Florence Briggs Th...  female  38.0      1   \n",
            "2                             Heikkinen, Miss. Laina  female  26.0      0   \n",
            "3       Futrelle, Mrs. Jacques Heath (Lily May Peel)  female  35.0      1   \n",
            "4                           Allen, Mr. William Henry    male  35.0      0   \n",
            "\n",
            "   Parch            Ticket     Fare Cabin Embarked  \n",
            "0      0         A/5 21171   7.2500   NaN        S  \n",
            "1      0          PC 17599  71.2833   C85        C  \n",
            "2      0  STON/O2. 3101282   7.9250   NaN        S  \n",
            "3      0            113803  53.1000  C123        S  \n",
            "4      0            373450   8.0500   NaN        S  \n"
          ]
        }
      ]
    },
    {
      "cell_type": "code",
      "source": [
        "missing_values_per_column = df.isnull().sum()\n",
        "print(\"Missing values per column:\\n\", missing_values_per_column)"
      ],
      "metadata": {
        "colab": {
          "base_uri": "https://localhost:8080/"
        },
        "id": "Ol6UIvp3KNeY",
        "outputId": "3f34984e-9abb-4d94-b235-26c2284f753f"
      },
      "execution_count": 4,
      "outputs": [
        {
          "output_type": "stream",
          "name": "stdout",
          "text": [
            "Missing values per column:\n",
            " PassengerId      0\n",
            "Survived         0\n",
            "Pclass           0\n",
            "Name             0\n",
            "Sex              0\n",
            "Age            177\n",
            "SibSp            0\n",
            "Parch            0\n",
            "Ticket           0\n",
            "Fare             0\n",
            "Cabin          687\n",
            "Embarked         2\n",
            "dtype: int64\n"
          ]
        }
      ]
    },
    {
      "cell_type": "code",
      "source": [
        "total_missing_values = df.isnull().sum().sum()\n",
        "print(\"\\nTotal missing values:\", total_missing_values)"
      ],
      "metadata": {
        "colab": {
          "base_uri": "https://localhost:8080/"
        },
        "id": "c3QE5n3NK76p",
        "outputId": "0fb3864f-4972-451b-9eaa-696863350269"
      },
      "execution_count": 5,
      "outputs": [
        {
          "output_type": "stream",
          "name": "stdout",
          "text": [
            "\n",
            "Total missing values: 866\n"
          ]
        }
      ]
    },
    {
      "cell_type": "code",
      "source": [
        "print(df.columns)\n",
        "\n",
        "if \"Survived\" in df.columns:\n",
        "    survivors = df[\"Survived\"].sum()\n",
        "    print(\"Number of people who survived:\", survivors)\n",
        "    print(\"\\nSurvival Count:\\n\", df[\"Survived\"].value_counts())\n",
        "\n",
        "else:\n",
        "    print(\"The dataset does not contain a 'Survived' column.\")"
      ],
      "metadata": {
        "colab": {
          "base_uri": "https://localhost:8080/"
        },
        "id": "LUJtGpJUK-hq",
        "outputId": "72f7c529-6f68-4ac2-d62f-9ffc6e27adb6"
      },
      "execution_count": 6,
      "outputs": [
        {
          "output_type": "stream",
          "name": "stdout",
          "text": [
            "Index(['PassengerId', 'Survived', 'Pclass', 'Name', 'Sex', 'Age', 'SibSp',\n",
            "       'Parch', 'Ticket', 'Fare', 'Cabin', 'Embarked'],\n",
            "      dtype='object')\n",
            "Number of people who survived: 342\n",
            "\n",
            "Survival Count:\n",
            " Survived\n",
            "0    549\n",
            "1    342\n",
            "Name: count, dtype: int64\n"
          ]
        }
      ]
    },
    {
      "cell_type": "code",
      "source": [
        "if \"Survived\" in df.columns and \"Sex\" in df.columns:\n",
        "\n",
        "    survival_count = df.groupby(\"Sex\")[\"Survived\"].sum()\n",
        "\n",
        "    print(\"Number of male survivors:\", survival_count.get(\"male\", 0))\n",
        "    print(\"Number of female survivors:\", survival_count.get(\"female\", 0))\n",
        "\n",
        "else:\n",
        "    print(\"Dataset does not contain 'Survived' or 'Sex' columns.\")"
      ],
      "metadata": {
        "colab": {
          "base_uri": "https://localhost:8080/"
        },
        "id": "9UK35KwVLtZ5",
        "outputId": "82ca095f-99fa-4205-fe5a-988efc8baa6d"
      },
      "execution_count": 7,
      "outputs": [
        {
          "output_type": "stream",
          "name": "stdout",
          "text": [
            "Number of male survivors: 109\n",
            "Number of female survivors: 233\n"
          ]
        }
      ]
    },
    {
      "cell_type": "code",
      "source": [
        "if \"Survived\" in df.columns and \"Age\" in df.columns:\n",
        "    avg_age_survivors = df[df[\"Survived\"] == 1][\"Age\"].mean()\n",
        "    print(\"Average age of people who survived:\", round(avg_age_survivors, 2))\n",
        "\n",
        "else:\n",
        "    print(\"Dataset does not contain 'Survived' or 'Age' columns.\")"
      ],
      "metadata": {
        "colab": {
          "base_uri": "https://localhost:8080/"
        },
        "id": "GT-k29ipMHS4",
        "outputId": "8316900c-5b3d-4142-ace9-3c0b8626b776"
      },
      "execution_count": 8,
      "outputs": [
        {
          "output_type": "stream",
          "name": "stdout",
          "text": [
            "Average age of people who survived: 28.34\n"
          ]
        }
      ]
    },
    {
      "cell_type": "code",
      "source": [
        "if \"Survived\" in df.columns and \"Age\" in df.columns:\n",
        "\n",
        "    survivors = df[df[\"Survived\"] == 1]\n",
        "\n",
        "    min_age = survivors[\"Age\"].min()\n",
        "    max_age = survivors[\"Age\"].max()\n",
        "\n",
        "    print(\"Youngest survivor (minimum age):\", min_age)\n",
        "    print(\"Oldest survivor (maximum age):\", max_age)\n",
        "else:\n",
        "    print(\"Dataset does not contain 'Survived' or 'Age' columns.\")"
      ],
      "metadata": {
        "colab": {
          "base_uri": "https://localhost:8080/"
        },
        "id": "Y2lVjbG_McJo",
        "outputId": "b5a32c39-7992-4b30-ff45-f66e2ff35c76"
      },
      "execution_count": 9,
      "outputs": [
        {
          "output_type": "stream",
          "name": "stdout",
          "text": [
            "Youngest survivor (minimum age): 0.42\n",
            "Oldest survivor (maximum age): 80.0\n"
          ]
        }
      ]
    },
    {
      "cell_type": "code",
      "source": [
        "if \"Survived\" in df.columns and \"Pclass\" in df.columns:\n",
        "\n",
        "    survival_per_class = df.groupby(\"Pclass\")[\"Survived\"].sum()\n",
        "\n",
        "    print(\"Survival count per class:\\n\", survival_per_class)\n",
        "else:\n",
        "    print(\"Dataset does not contain 'Survived' or 'Pclass' columns.\")"
      ],
      "metadata": {
        "colab": {
          "base_uri": "https://localhost:8080/"
        },
        "id": "15YqW1R9Mpah",
        "outputId": "36a32e9e-b419-45c1-9419-333181d297d3"
      },
      "execution_count": 11,
      "outputs": [
        {
          "output_type": "stream",
          "name": "stdout",
          "text": [
            "Survival count per class:\n",
            " Pclass\n",
            "1    136\n",
            "2     87\n",
            "3    119\n",
            "Name: Survived, dtype: int64\n"
          ]
        }
      ]
    },
    {
      "cell_type": "code",
      "source": [
        "if \"SibSp\" in df.columns:\n",
        "\n",
        "    passengers_with_sibsp = df[df[\"SibSp\"] > 0].shape[0]\n",
        "\n",
        "    print(\"Number of passengers with siblings or spouses on the Titanic:\", passengers_with_sibsp)\n",
        "else:\n",
        "    print(\"Dataset does not contain 'SibSp' column.\")"
      ],
      "metadata": {
        "colab": {
          "base_uri": "https://localhost:8080/"
        },
        "id": "DfB6_BdnM4Yf",
        "outputId": "05c3cc15-0445-4d51-823b-0c52b0ce061f"
      },
      "execution_count": 12,
      "outputs": [
        {
          "output_type": "stream",
          "name": "stdout",
          "text": [
            "Number of passengers with siblings or spouses on the Titanic: 283\n"
          ]
        }
      ]
    },
    {
      "cell_type": "code",
      "source": [
        "if \"Parch\" in df.columns:\n",
        "\n",
        "    passengers_with_parch = df[df[\"Parch\"] > 0].shape[0]\n",
        "\n",
        "    print(\"Number of passengers with parents or children on the Titanic:\", passengers_with_parch)\n",
        "else:\n",
        "    print(\"Dataset does not contain 'Parch' column.\")"
      ],
      "metadata": {
        "colab": {
          "base_uri": "https://localhost:8080/"
        },
        "id": "zzbYNrvYNNd0",
        "outputId": "bb6378ea-48ad-4c02-d7ef-63e289e86d8a"
      },
      "execution_count": 13,
      "outputs": [
        {
          "output_type": "stream",
          "name": "stdout",
          "text": [
            "Number of passengers with parents or children on the Titanic: 213\n"
          ]
        }
      ]
    },
    {
      "cell_type": "code",
      "source": [
        "last_two_columns = df.iloc[:, -2:]\n",
        "print(last_two_columns)"
      ],
      "metadata": {
        "colab": {
          "base_uri": "https://localhost:8080/"
        },
        "id": "qcbsNpR1WDs3",
        "outputId": "c29d92c5-dde1-4aff-fbf9-45837cc2abc9"
      },
      "execution_count": 17,
      "outputs": [
        {
          "output_type": "stream",
          "name": "stdout",
          "text": [
            "    Cabin Embarked\n",
            "0     NaN        S\n",
            "1     C85        C\n",
            "2     NaN        S\n",
            "3    C123        S\n",
            "4     NaN        S\n",
            "..    ...      ...\n",
            "886   NaN        S\n",
            "887   B42        S\n",
            "888   NaN        S\n",
            "889  C148        C\n",
            "890   NaN        Q\n",
            "\n",
            "[891 rows x 2 columns]\n"
          ]
        }
      ]
    },
    {
      "cell_type": "code",
      "source": [
        "last_two_columns = df.iloc[-2:]\n",
        "print(last_two_columns)"
      ],
      "metadata": {
        "colab": {
          "base_uri": "https://localhost:8080/"
        },
        "id": "5VEar4zVXx5u",
        "outputId": "9ca6ec74-4ebe-4d0d-851d-82a6ade91bda"
      },
      "execution_count": 18,
      "outputs": [
        {
          "output_type": "stream",
          "name": "stdout",
          "text": [
            "     PassengerId  Survived  Pclass                   Name   Sex   Age  SibSp  \\\n",
            "889          890         1       1  Behr, Mr. Karl Howell  male  26.0      0   \n",
            "890          891         0       3    Dooley, Mr. Patrick  male  32.0      0   \n",
            "\n",
            "     Parch  Ticket   Fare Cabin Embarked  \n",
            "889      0  111369  30.00  C148        C  \n",
            "890      0  370376   7.75   NaN        Q  \n"
          ]
        }
      ]
    },
    {
      "cell_type": "code",
      "source": [
        "last_two_columns = df.columns[-2:]\n",
        "print(last_two_columns)"
      ],
      "metadata": {
        "colab": {
          "base_uri": "https://localhost:8080/"
        },
        "id": "QIOb1R-OX5rn",
        "outputId": "e17c4a06-085b-4318-e3ab-b0f8b772fc8e"
      },
      "execution_count": 19,
      "outputs": [
        {
          "output_type": "stream",
          "name": "stdout",
          "text": [
            "Index(['Cabin', 'Embarked'], dtype='object')\n"
          ]
        }
      ]
    },
    {
      "cell_type": "code",
      "source": [],
      "metadata": {
        "id": "R4qkOmLBX-8n"
      },
      "execution_count": null,
      "outputs": []
    }
  ]
}