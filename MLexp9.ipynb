{
  "nbformat": 4,
  "nbformat_minor": 0,
  "metadata": {
    "colab": {
      "provenance": [],
      "authorship_tag": "ABX9TyNvzkVzFt3lEIZ9QyxNsVBX",
      "include_colab_link": true
    },
    "kernelspec": {
      "name": "python3",
      "display_name": "Python 3"
    },
    "language_info": {
      "name": "python"
    }
  },
  "cells": [
    {
      "cell_type": "markdown",
      "metadata": {
        "id": "view-in-github",
        "colab_type": "text"
      },
      "source": [
        "<a href=\"https://colab.research.google.com/github/parul2712/ML-LAB/blob/main/MLexp9.ipynb\" target=\"_parent\"><img src=\"https://colab.research.google.com/assets/colab-badge.svg\" alt=\"Open In Colab\"/></a>"
      ]
    },
    {
      "cell_type": "code",
      "execution_count": null,
      "metadata": {
        "id": "vijMGiejZLdP"
      },
      "outputs": [],
      "source": [
        "import pandas as pd\n",
        "import numpy as np"
      ]
    },
    {
      "cell_type": "code",
      "source": [
        "file_path = \"/content/Result-Experiment.xlsx\"\n",
        "df = pd.read_excel(file_path)"
      ],
      "metadata": {
        "id": "uzwuKHSpZVk6"
      },
      "execution_count": null,
      "outputs": []
    },
    {
      "cell_type": "code",
      "source": [
        "X_lab = pd.to_numeric(df.iloc[1:, 6], errors='coerce').values\n",
        "y_lab = pd.to_numeric(df.iloc[1:, 7], errors='coerce').values"
      ],
      "metadata": {
        "id": "dv-StMVJaUo0"
      },
      "execution_count": null,
      "outputs": []
    },
    {
      "cell_type": "code",
      "source": [
        "valid_indices = ~np.isnan(X_lab) & ~np.isnan(y_lab)\n",
        "X_lab = X_lab[valid_indices]\n",
        "y_lab = y_lab[valid_indices]"
      ],
      "metadata": {
        "id": "TtMGSmdsbrJo"
      },
      "execution_count": null,
      "outputs": []
    },
    {
      "cell_type": "code",
      "source": [
        "X_mean_lab, y_mean_lab = np.mean(X_lab), np.mean(y_lab)\n",
        "slope_lab = np.sum((X_lab - X_mean_lab) * (y_lab - y_mean_lab)) / np.sum((X_lab - X_mean_lab) ** 2)\n",
        "intercept_lab = y_mean_lab - (slope_lab * X_mean_lab)"
      ],
      "metadata": {
        "id": "FcunSOKZb0yY"
      },
      "execution_count": null,
      "outputs": []
    },
    {
      "cell_type": "code",
      "source": [
        "correlation_lab = np.corrcoef(X_lab, y_lab)[0, 1]"
      ],
      "metadata": {
        "id": "TdGbT4KTb44D"
      },
      "execution_count": null,
      "outputs": []
    },
    {
      "cell_type": "code",
      "source": [
        "print(f\"ML Lab - Linear Regression\")\n",
        "print(f\"Slope: {slope_lab}\")\n",
        "print(f\"Intercept: {intercept_lab}\")\n",
        "print(f\"Correlation Coefficient: {correlation_lab}\")"
      ],
      "metadata": {
        "colab": {
          "base_uri": "https://localhost:8080/"
        },
        "id": "wGdsPRb5b8gT",
        "outputId": "53b408d9-3778-451e-abf4-1b352b3f891e"
      },
      "execution_count": null,
      "outputs": [
        {
          "output_type": "stream",
          "name": "stdout",
          "text": [
            "ML Lab - Linear Regression\n",
            "Slope: 2.1842685871284657\n",
            "Intercept: -9.647135958704524\n",
            "Correlation Coefficient: 0.7925798043763019\n"
          ]
        }
      ]
    },
    {
      "cell_type": "code",
      "source": [],
      "metadata": {
        "id": "CWKMqa92b_6M"
      },
      "execution_count": null,
      "outputs": []
    }
  ]
}