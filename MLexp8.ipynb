{
  "nbformat": 4,
  "nbformat_minor": 0,
  "metadata": {
    "colab": {
      "provenance": [],
      "authorship_tag": "ABX9TyN+Ty8nFdte2giaPxnb1uHf",
      "include_colab_link": true
    },
    "kernelspec": {
      "name": "python3",
      "display_name": "Python 3"
    },
    "language_info": {
      "name": "python"
    }
  },
  "cells": [
    {
      "cell_type": "markdown",
      "metadata": {
        "id": "view-in-github",
        "colab_type": "text"
      },
      "source": [
        "<a href=\"https://colab.research.google.com/github/parul2712/ML-LAB/blob/main/MLexp8.ipynb\" target=\"_parent\"><img src=\"https://colab.research.google.com/assets/colab-badge.svg\" alt=\"Open In Colab\"/></a>"
      ]
    },
    {
      "cell_type": "code",
      "execution_count": 1,
      "metadata": {
        "id": "6PpHVB1aDR2q"
      },
      "outputs": [],
      "source": [
        "import numpy as np\n",
        "import pandas as pd\n",
        "import matplotlib.pyplot as plt"
      ]
    },
    {
      "cell_type": "code",
      "source": [
        "from google.colab import files\n",
        "uploaded = files.upload()"
      ],
      "metadata": {
        "colab": {
          "base_uri": "https://localhost:8080/",
          "height": 73
        },
        "id": "lckCAMSNDzBK",
        "outputId": "14c6d5b4-ca9d-4e13-f2d8-a5c9ec064c6a"
      },
      "execution_count": 3,
      "outputs": [
        {
          "output_type": "display_data",
          "data": {
            "text/plain": [
              "<IPython.core.display.HTML object>"
            ],
            "text/html": [
              "\n",
              "     <input type=\"file\" id=\"files-580d8c33-dba2-4c34-88bc-6c37145b8c9e\" name=\"files[]\" multiple disabled\n",
              "        style=\"border:none\" />\n",
              "     <output id=\"result-580d8c33-dba2-4c34-88bc-6c37145b8c9e\">\n",
              "      Upload widget is only available when the cell has been executed in the\n",
              "      current browser session. Please rerun this cell to enable.\n",
              "      </output>\n",
              "      <script>// Copyright 2017 Google LLC\n",
              "//\n",
              "// Licensed under the Apache License, Version 2.0 (the \"License\");\n",
              "// you may not use this file except in compliance with the License.\n",
              "// You may obtain a copy of the License at\n",
              "//\n",
              "//      http://www.apache.org/licenses/LICENSE-2.0\n",
              "//\n",
              "// Unless required by applicable law or agreed to in writing, software\n",
              "// distributed under the License is distributed on an \"AS IS\" BASIS,\n",
              "// WITHOUT WARRANTIES OR CONDITIONS OF ANY KIND, either express or implied.\n",
              "// See the License for the specific language governing permissions and\n",
              "// limitations under the License.\n",
              "\n",
              "/**\n",
              " * @fileoverview Helpers for google.colab Python module.\n",
              " */\n",
              "(function(scope) {\n",
              "function span(text, styleAttributes = {}) {\n",
              "  const element = document.createElement('span');\n",
              "  element.textContent = text;\n",
              "  for (const key of Object.keys(styleAttributes)) {\n",
              "    element.style[key] = styleAttributes[key];\n",
              "  }\n",
              "  return element;\n",
              "}\n",
              "\n",
              "// Max number of bytes which will be uploaded at a time.\n",
              "const MAX_PAYLOAD_SIZE = 100 * 1024;\n",
              "\n",
              "function _uploadFiles(inputId, outputId) {\n",
              "  const steps = uploadFilesStep(inputId, outputId);\n",
              "  const outputElement = document.getElementById(outputId);\n",
              "  // Cache steps on the outputElement to make it available for the next call\n",
              "  // to uploadFilesContinue from Python.\n",
              "  outputElement.steps = steps;\n",
              "\n",
              "  return _uploadFilesContinue(outputId);\n",
              "}\n",
              "\n",
              "// This is roughly an async generator (not supported in the browser yet),\n",
              "// where there are multiple asynchronous steps and the Python side is going\n",
              "// to poll for completion of each step.\n",
              "// This uses a Promise to block the python side on completion of each step,\n",
              "// then passes the result of the previous step as the input to the next step.\n",
              "function _uploadFilesContinue(outputId) {\n",
              "  const outputElement = document.getElementById(outputId);\n",
              "  const steps = outputElement.steps;\n",
              "\n",
              "  const next = steps.next(outputElement.lastPromiseValue);\n",
              "  return Promise.resolve(next.value.promise).then((value) => {\n",
              "    // Cache the last promise value to make it available to the next\n",
              "    // step of the generator.\n",
              "    outputElement.lastPromiseValue = value;\n",
              "    return next.value.response;\n",
              "  });\n",
              "}\n",
              "\n",
              "/**\n",
              " * Generator function which is called between each async step of the upload\n",
              " * process.\n",
              " * @param {string} inputId Element ID of the input file picker element.\n",
              " * @param {string} outputId Element ID of the output display.\n",
              " * @return {!Iterable<!Object>} Iterable of next steps.\n",
              " */\n",
              "function* uploadFilesStep(inputId, outputId) {\n",
              "  const inputElement = document.getElementById(inputId);\n",
              "  inputElement.disabled = false;\n",
              "\n",
              "  const outputElement = document.getElementById(outputId);\n",
              "  outputElement.innerHTML = '';\n",
              "\n",
              "  const pickedPromise = new Promise((resolve) => {\n",
              "    inputElement.addEventListener('change', (e) => {\n",
              "      resolve(e.target.files);\n",
              "    });\n",
              "  });\n",
              "\n",
              "  const cancel = document.createElement('button');\n",
              "  inputElement.parentElement.appendChild(cancel);\n",
              "  cancel.textContent = 'Cancel upload';\n",
              "  const cancelPromise = new Promise((resolve) => {\n",
              "    cancel.onclick = () => {\n",
              "      resolve(null);\n",
              "    };\n",
              "  });\n",
              "\n",
              "  // Wait for the user to pick the files.\n",
              "  const files = yield {\n",
              "    promise: Promise.race([pickedPromise, cancelPromise]),\n",
              "    response: {\n",
              "      action: 'starting',\n",
              "    }\n",
              "  };\n",
              "\n",
              "  cancel.remove();\n",
              "\n",
              "  // Disable the input element since further picks are not allowed.\n",
              "  inputElement.disabled = true;\n",
              "\n",
              "  if (!files) {\n",
              "    return {\n",
              "      response: {\n",
              "        action: 'complete',\n",
              "      }\n",
              "    };\n",
              "  }\n",
              "\n",
              "  for (const file of files) {\n",
              "    const li = document.createElement('li');\n",
              "    li.append(span(file.name, {fontWeight: 'bold'}));\n",
              "    li.append(span(\n",
              "        `(${file.type || 'n/a'}) - ${file.size} bytes, ` +\n",
              "        `last modified: ${\n",
              "            file.lastModifiedDate ? file.lastModifiedDate.toLocaleDateString() :\n",
              "                                    'n/a'} - `));\n",
              "    const percent = span('0% done');\n",
              "    li.appendChild(percent);\n",
              "\n",
              "    outputElement.appendChild(li);\n",
              "\n",
              "    const fileDataPromise = new Promise((resolve) => {\n",
              "      const reader = new FileReader();\n",
              "      reader.onload = (e) => {\n",
              "        resolve(e.target.result);\n",
              "      };\n",
              "      reader.readAsArrayBuffer(file);\n",
              "    });\n",
              "    // Wait for the data to be ready.\n",
              "    let fileData = yield {\n",
              "      promise: fileDataPromise,\n",
              "      response: {\n",
              "        action: 'continue',\n",
              "      }\n",
              "    };\n",
              "\n",
              "    // Use a chunked sending to avoid message size limits. See b/62115660.\n",
              "    let position = 0;\n",
              "    do {\n",
              "      const length = Math.min(fileData.byteLength - position, MAX_PAYLOAD_SIZE);\n",
              "      const chunk = new Uint8Array(fileData, position, length);\n",
              "      position += length;\n",
              "\n",
              "      const base64 = btoa(String.fromCharCode.apply(null, chunk));\n",
              "      yield {\n",
              "        response: {\n",
              "          action: 'append',\n",
              "          file: file.name,\n",
              "          data: base64,\n",
              "        },\n",
              "      };\n",
              "\n",
              "      let percentDone = fileData.byteLength === 0 ?\n",
              "          100 :\n",
              "          Math.round((position / fileData.byteLength) * 100);\n",
              "      percent.textContent = `${percentDone}% done`;\n",
              "\n",
              "    } while (position < fileData.byteLength);\n",
              "  }\n",
              "\n",
              "  // All done.\n",
              "  yield {\n",
              "    response: {\n",
              "      action: 'complete',\n",
              "    }\n",
              "  };\n",
              "}\n",
              "\n",
              "scope.google = scope.google || {};\n",
              "scope.google.colab = scope.google.colab || {};\n",
              "scope.google.colab._files = {\n",
              "  _uploadFiles,\n",
              "  _uploadFilesContinue,\n",
              "};\n",
              "})(self);\n",
              "</script> "
            ]
          },
          "metadata": {}
        },
        {
          "output_type": "stream",
          "name": "stdout",
          "text": [
            "Saving Iris (1).csv to Iris (1) (1).csv\n"
          ]
        }
      ]
    },
    {
      "cell_type": "code",
      "source": [
        "df = pd.read_csv(\"Iris (1).csv\")"
      ],
      "metadata": {
        "id": "YGpNTOLkFVcV"
      },
      "execution_count": 6,
      "outputs": []
    },
    {
      "cell_type": "code",
      "source": [
        "features = [\"SepalLength\", \"SepalWidth\", \"PetalLength\", \"PetalWidth\"]\n",
        "X = df[features].values"
      ],
      "metadata": {
        "id": "nFE3Cm9sF7Q1"
      },
      "execution_count": 7,
      "outputs": []
    },
    {
      "cell_type": "code",
      "source": [
        "mean_vector = np.mean(X, axis=0)\n",
        "print(\"\\n🔹 Mean Vector:\", mean_vector)\n",
        "centered_data = X - mean_vector\n",
        "print(\"\\n🔹 Centered Data (After Mean Subtraction):\\n\", pd.DataFrame(centered_data, columns=features))"
      ],
      "metadata": {
        "colab": {
          "base_uri": "https://localhost:8080/"
        },
        "id": "Ba2ABeKnGBG7",
        "outputId": "7700b58f-1519-4b7a-a0e5-8cdbb2acc1b6"
      },
      "execution_count": 8,
      "outputs": [
        {
          "output_type": "stream",
          "name": "stdout",
          "text": [
            "\n",
            "🔹 Mean Vector: [5.84333333 3.054      3.75866667 1.19866667]\n",
            "\n",
            "🔹 Centered Data (After Mean Subtraction):\n",
            "      SepalLength  SepalWidth  PetalLength  PetalWidth\n",
            "0      -0.743333       0.446    -2.358667   -0.998667\n",
            "1      -0.943333      -0.054    -2.358667   -0.998667\n",
            "2      -1.143333       0.146    -2.458667   -0.998667\n",
            "3      -1.243333       0.046    -2.258667   -0.998667\n",
            "4      -0.843333       0.546    -2.358667   -0.998667\n",
            "..           ...         ...          ...         ...\n",
            "145     0.856667      -0.054     1.441333    1.101333\n",
            "146     0.456667      -0.554     1.241333    0.701333\n",
            "147     0.656667      -0.054     1.441333    0.801333\n",
            "148     0.356667       0.346     1.641333    1.101333\n",
            "149     0.056667      -0.054     1.341333    0.601333\n",
            "\n",
            "[150 rows x 4 columns]\n"
          ]
        }
      ]
    },
    {
      "cell_type": "code",
      "source": [
        "cov_matrix = np.cov(centered_data, rowvar=False)\n",
        "print(\"\\n🔹 Covariance Matrix:\\n\", pd.DataFrame(cov_matrix, index=features, columns=features))"
      ],
      "metadata": {
        "colab": {
          "base_uri": "https://localhost:8080/"
        },
        "id": "RKv1hoJaGJhy",
        "outputId": "a25050f5-3655-4c03-f32f-27170577a9b0"
      },
      "execution_count": 9,
      "outputs": [
        {
          "output_type": "stream",
          "name": "stdout",
          "text": [
            "\n",
            "🔹 Covariance Matrix:\n",
            "              SepalLength  SepalWidth  PetalLength  PetalWidth\n",
            "SepalLength     0.685694   -0.039268     1.273682    0.516904\n",
            "SepalWidth     -0.039268    0.188004    -0.321713   -0.117981\n",
            "PetalLength     1.273682   -0.321713     3.113179    1.296387\n",
            "PetalWidth      0.516904   -0.117981     1.296387    0.582414\n"
          ]
        }
      ]
    },
    {
      "cell_type": "code",
      "source": [
        "eig_values, eig_vectors = np.linalg.eig(cov_matrix)\n",
        "print(\"\\n🔹 Eigenvalues:\\n\", eig_values)\n",
        "print(\"\\n🔹 Eigenvectors:\\n\", pd.DataFrame(eig_vectors, index=features, columns=[\"PC1\", \"PC2\", \"PC3\", \"PC4\"]))"
      ],
      "metadata": {
        "colab": {
          "base_uri": "https://localhost:8080/"
        },
        "id": "F63U_b-hGQDJ",
        "outputId": "e6e20f0b-d1f9-4d23-fafc-1d12afdc6b12"
      },
      "execution_count": 10,
      "outputs": [
        {
          "output_type": "stream",
          "name": "stdout",
          "text": [
            "\n",
            "🔹 Eigenvalues:\n",
            " [4.22484077 0.24224357 0.07852391 0.02368303]\n",
            "\n",
            "🔹 Eigenvectors:\n",
            "                   PC1       PC2       PC3       PC4\n",
            "SepalLength  0.361590 -0.656540 -0.580997  0.317255\n",
            "SepalWidth  -0.082269 -0.729712  0.596418 -0.324094\n",
            "PetalLength  0.856572  0.175767  0.072524 -0.479719\n",
            "PetalWidth   0.358844  0.074706  0.549061  0.751121\n"
          ]
        }
      ]
    },
    {
      "cell_type": "code",
      "source": [
        "sorted_indices = np.argsort(eig_values)[::-1]\n",
        "eig_values = eig_values[sorted_indices]\n",
        "eig_vectors = eig_vectors[:, sorted_indices]"
      ],
      "metadata": {
        "id": "nfC73zJnGbLN"
      },
      "execution_count": 11,
      "outputs": []
    },
    {
      "cell_type": "code",
      "source": [
        "principal_components = centered_data @ eig_vectors[:, :2]\n",
        "\n",
        "df_pca = pd.DataFrame(principal_components, columns=[\"PC1\", \"PC2\"])\n",
        "df_pca[\"Species\"] = df[\"Species\"]\n",
        "print(\"\\n🔹 Principal Components (First Two):\\n\", df_pca)"
      ],
      "metadata": {
        "colab": {
          "base_uri": "https://localhost:8080/"
        },
        "id": "qmzn_y3PGmJB",
        "outputId": "36f9abda-4cd1-4025-9670-d6a2fc69b2e2"
      },
      "execution_count": 12,
      "outputs": [
        {
          "output_type": "stream",
          "name": "stdout",
          "text": [
            "\n",
            "🔹 Principal Components (First Two):\n",
            "           PC1       PC2         Species\n",
            "0   -2.684207 -0.326607     Iris-setosa\n",
            "1   -2.715391  0.169557     Iris-setosa\n",
            "2   -2.889820  0.137346     Iris-setosa\n",
            "3   -2.746437  0.311124     Iris-setosa\n",
            "4   -2.728593 -0.333925     Iris-setosa\n",
            "..        ...       ...             ...\n",
            "145  1.944017 -0.187415  Iris-virginica\n",
            "146  1.525664  0.375021  Iris-virginica\n",
            "147  1.764046 -0.078519  Iris-virginica\n",
            "148  1.901629 -0.115877  Iris-virginica\n",
            "149  1.389666  0.282887  Iris-virginica\n",
            "\n",
            "[150 rows x 3 columns]\n"
          ]
        }
      ]
    },
    {
      "cell_type": "code",
      "source": [
        "plt.figure(figsize=(8, 6))\n",
        "species_colors = {\"Iris-setosa\": \"red\", \"Iris-versicolor\": \"blue\", \"Iris-virginica\": \"green\"}\n",
        "\n",
        "for species, color in species_colors.items():\n",
        "    subset = df_pca[df_pca[\"Species\"] == species]\n",
        "    plt.scatter(subset[\"PC1\"], subset[\"PC2\"], label=species, color=color, alpha=0.7)\n",
        "\n",
        "plt.xlabel(\"Principal Component 1\")\n",
        "plt.ylabel(\"Principal Component 2\")\n",
        "plt.title(\"PCA of IRIS Dataset (First Two Components)\")\n",
        "plt.legend()\n",
        "plt.grid(True)\n",
        "plt.show()"
      ],
      "metadata": {
        "colab": {
          "base_uri": "https://localhost:8080/",
          "height": 564
        },
        "id": "rtgfh8PNHCkp",
        "outputId": "85017050-f9ce-406c-a212-555793eabdf8"
      },
      "execution_count": 13,
      "outputs": [
        {
          "output_type": "display_data",
          "data": {
            "text/plain": [
              "<Figure size 800x600 with 1 Axes>"
            ],
            "image/png": "[encoded data removed]"
          },
          "metadata": {}
        }
      ]
    },
    {
      "cell_type": "code",
      "source": [],
      "metadata": {
        "id": "CR4UGVnbHCYk"
      },
      "execution_count": null,
      "outputs": []
    }
  ]
}